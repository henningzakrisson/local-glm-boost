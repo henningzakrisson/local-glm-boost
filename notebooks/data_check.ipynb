{
 "cells": [
  {
   "cell_type": "code",
   "execution_count": 1,
   "outputs": [
    {
     "name": "stderr",
     "output_type": "stream",
     "text": [
      "[2023-09-18 10:58][run_41][Loading configuration]\n",
      "[2023-09-18 10:58][run_41][Loading data]\n"
     ]
    }
   ],
   "source": [
    "import numpy as np\n",
    "import pandas as pd\n",
    "import ssl\n",
    "import os\n",
    "import yaml\n",
    "import shutil\n",
    "\n",
    "from sklearn.datasets import fetch_openml\n",
    "from sklearn.model_selection import train_test_split\n",
    "\n",
    "from local_glm_boost import LocalGLMBooster\n",
    "from local_glm_boost.utils.tuning import tune_n_estimators\n",
    "from local_glm_boost.utils.logger import LocalGLMBoostLogger\n",
    "\n",
    "config_name = \"real_data_study\"\n",
    "\n",
    "# Set up output folder, configuration file, run_id and logger\n",
    "script_dir = \"/home/heza7322/PycharmProjects/local-glm-boost/scripts\"\n",
    "folder_path = os.path.join(script_dir, \"../data/results/\")\n",
    "config_path = os.path.join(script_dir, f\"{config_name}.yaml\")\n",
    "with open(config_path, \"r\") as f:\n",
    "    config = yaml.load(f, Loader=yaml.FullLoader)\n",
    "\n",
    "if os.path.exists(folder_path) and os.listdir(folder_path):\n",
    "    run_id = (\n",
    "        max(\n",
    "            [int(folder_name.split(\"_\")[1]) for folder_name in os.listdir(folder_path)]\n",
    "            + [0]\n",
    "        )\n",
    "        + 1\n",
    "    )\n",
    "else:\n",
    "    run_id = 0\n",
    "\n",
    "output_path = os.path.join(folder_path, f\"run_{run_id}\")\n",
    "os.makedirs(output_path)\n",
    "\n",
    "# Put the config in the output folder\n",
    "shutil.copyfile(config_path, f\"{output_path}/config.yaml\")\n",
    "\n",
    "# Set up logger\n",
    "logger = LocalGLMBoostLogger(\n",
    "    verbose=2,\n",
    "    output_path=output_path,\n",
    ")\n",
    "logger.append_format_level(f\"run_{run_id}\")\n",
    "\n",
    "# Load stuff from the config\n",
    "logger.log(\"Loading configuration\")\n",
    "n = config[\"n\"]\n",
    "features_to_use = config[\"features_to_use\"]\n",
    "target = config[\"target\"]\n",
    "weights = config[\"weights\"]\n",
    "distribution = config[\"distribution\"]\n",
    "n_estimators_max = config[\"n_estimators_max\"]\n",
    "learning_rate = config[\"learning_rate\"]\n",
    "min_samples_split = config[\"min_samples_split\"]\n",
    "min_samples_leaf = config[\"min_samples_leaf\"]\n",
    "max_depth = config[\"max_depth\"]\n",
    "glm_init = config[\"glm_init\"]\n",
    "random_seed = config[\"random_seed\"]\n",
    "n_splits = config[\"n_splits\"]\n",
    "test_size = config[\"test_size\"]\n",
    "parallel = config[\"parallel\"]\n",
    "stratified = config[\"stratified\"]\n",
    "n_jobs = config[\"n_jobs\"]\n",
    "\n",
    "# Load and preprocess data\n",
    "logger.log(\"Loading data\")\n",
    "ssl._create_default_https_context = ssl._create_unverified_context\n",
    "df_num = fetch_openml(data_id=41214, as_frame=True).data\n",
    "df_sev = fetch_openml(data_id=41215, as_frame=True).data\n",
    "df_sev_tot = df_sev.groupby('IDpol')['ClaimAmount'].sum()\n",
    "df = df_num.merge(df_sev_tot, left_on='IDpol', right_index=True, how='left')\n",
    "df.loc[df['ClaimAmount'].isna(), 'ClaimNb'] = 0\n",
    "df.loc[df['ClaimAmount'].isna(), 'ClaimAmount'] = 0\n",
    "df = df.loc[df['ClaimNb'] <=5]\n",
    "\n",
    "df['Exposure'] = df['Exposure'].clip(0, 1)\n",
    "df['Area'] = df['Area'].apply(lambda x: ord(x) - 65)\n",
    "df['VehGas'] = df['VehGas'].apply(lambda x: 1 if x == 'Regular' else 0)\n",
    "\n",
    "continous_features = ['VehPower','VehAge','DrivAge','BonusMalus','Density','Area','VehGas']\n",
    "features = [feature for feature in continous_features if feature in features_to_use]\n",
    "parallel_fit = []\n",
    "for feature in ['VehBrand','Region']:\n",
    "    if feature in features_to_use:\n",
    "        dummies = pd.get_dummies(df[feature], prefix=feature)\n",
    "        df = pd.concat([df, dummies], axis=1)\n",
    "        dummy_feature_indices = [j for j in range(len(features),len(features)+len(dummies.columns))]\n",
    "        parallel_fit.append(dummy_feature_indices)\n",
    "        features += dummies.columns.tolist()\n",
    "\n",
    "rng = np.random.default_rng(seed=random_seed)\n",
    "if n != \"all\":\n",
    "    df = df.sample(n, random_state = rng.integers(0, 10000))\n",
    "n = len(df)\n",
    "\n",
    "X = df[features].astype(float)\n",
    "y = df[target]\n",
    "w = df[weights]\n",
    "\n",
    "X = X / X.max(axis=0)\n"
   ],
   "metadata": {
    "collapsed": false
   }
  },
  {
   "cell_type": "code",
   "execution_count": 2,
   "outputs": [
    {
     "name": "stderr",
     "output_type": "stream",
     "text": [
      "[2023-09-18 10:59][run_41][Fitting a GLM using statsmodels]\n"
     ]
    },
    {
     "data": {
      "text/plain": "<class 'statsmodels.iolib.summary.Summary'>\n\"\"\"\n                 Generalized Linear Model Regression Results                  \n==============================================================================\nDep. Variable:                ClaimNb   No. Observations:               678007\nModel:                            GLM   Df Residuals:                358319.81\nModel Family:                 Poisson   Df Model:                           38\nLink Function:                    Log   Scale:                          1.0000\nMethod:                          IRLS   Log-Likelihood:                -71121.\nDate:                Mon, 18 Sep 2023   Deviance:                   1.0710e+05\nTime:                        10:59:12   Pearson chi2:                 3.76e+05\nNo. Iterations:                     7   Pseudo R-squ. (CS):           0.006628\nCovariance Type:            nonrobust                                         \n================================================================================\n                   coef    std err          z      P>|z|      [0.025      0.975]\n--------------------------------------------------------------------------------\nconst           -4.5989      0.051    -90.281      0.000      -4.699      -4.499\nVehPower         0.5456      0.060      9.101      0.000       0.428       0.663\nVehAge          -2.2187      0.154    -14.437      0.000      -2.520      -1.918\nDrivAge          1.0674      0.054     19.671      0.000       0.961       1.174\nBonusMalus       5.9096      0.093     63.219      0.000       5.726       6.093\nDensity         -0.0348      0.070     -0.500      0.617      -0.171       0.102\nArea             0.4362      0.037     11.773      0.000       0.364       0.509\nVehGas          -0.1717      0.015    -11.208      0.000      -0.202      -0.142\nVehBrand_B1     -0.3798      0.019    -20.253      0.000      -0.417      -0.343\nVehBrand_B10    -0.3960      0.043     -9.272      0.000      -0.480      -0.312\nVehBrand_B11    -0.2662      0.046     -5.786      0.000      -0.356      -0.176\nVehBrand_B12    -0.9011      0.024    -36.923      0.000      -0.949      -0.853\nVehBrand_B13    -0.3122      0.048     -6.520      0.000      -0.406      -0.218\nVehBrand_B14    -0.5915      0.096     -6.137      0.000      -0.780      -0.403\nVehBrand_B2     -0.3909      0.019    -20.756      0.000      -0.428      -0.354\nVehBrand_B3     -0.3500      0.026    -13.539      0.000      -0.401      -0.299\nVehBrand_B4     -0.3476      0.035     -9.878      0.000      -0.417      -0.279\nVehBrand_B5     -0.2954      0.030     -9.930      0.000      -0.354      -0.237\nVehBrand_B6     -0.3681      0.034    -10.903      0.000      -0.434      -0.302\nRegion_R11      -0.2081      0.034     -6.064      0.000      -0.275      -0.141\nRegion_R21      -0.2791      0.141     -1.978      0.048      -0.556      -0.003\nRegion_R22      -0.1087      0.070     -1.562      0.118      -0.245       0.028\nRegion_R23      -0.3909      0.087     -4.512      0.000      -0.561      -0.221\nRegion_R24      -0.1947      0.023     -8.364      0.000      -0.240      -0.149\nRegion_R25      -0.1315      0.054     -2.422      0.015      -0.238      -0.025\nRegion_R26      -0.2112      0.065     -3.247      0.001      -0.339      -0.084\nRegion_R31      -0.2233      0.043     -5.191      0.000      -0.308      -0.139\nRegion_R41      -0.2732      0.054     -5.032      0.000      -0.380      -0.167\nRegion_R42      -0.1992      0.120     -1.653      0.098      -0.435       0.037\nRegion_R43      -0.4903      0.216     -2.275      0.023      -0.913      -0.068\nRegion_R52      -0.1364      0.034     -4.068      0.000      -0.202      -0.071\nRegion_R53      -0.1365      0.031     -4.405      0.000      -0.197      -0.076\nRegion_R54      -0.1431      0.044     -3.248      0.001      -0.230      -0.057\nRegion_R72      -0.1648      0.040     -4.131      0.000      -0.243      -0.087\nRegion_R73      -0.5051      0.065     -7.714      0.000      -0.633      -0.377\nRegion_R74       0.1678      0.083      2.019      0.043       0.005       0.331\nRegion_R82       0.0145      0.025      0.574      0.566      -0.035       0.064\nRegion_R83      -0.3142      0.104     -3.026      0.002      -0.518      -0.111\nRegion_R91      -0.3362      0.042     -7.928      0.000      -0.419      -0.253\nRegion_R93      -0.1113      0.028     -3.930      0.000      -0.167      -0.056\nRegion_R94      -0.2236      0.114     -1.964      0.049      -0.447      -0.001\n================================================================================\n\"\"\"",
      "text/html": "<table class=\"simpletable\">\n<caption>Generalized Linear Model Regression Results</caption>\n<tr>\n  <th>Dep. Variable:</th>        <td>ClaimNb</td>     <th>  No. Observations:  </th>   <td>678007</td>  \n</tr>\n<tr>\n  <th>Model:</th>                  <td>GLM</td>       <th>  Df Residuals:      </th>  <td>358319.81</td>\n</tr>\n<tr>\n  <th>Model Family:</th>         <td>Poisson</td>     <th>  Df Model:          </th>   <td>    38</td>  \n</tr>\n<tr>\n  <th>Link Function:</th>          <td>Log</td>       <th>  Scale:             </th>  <td>  1.0000</td> \n</tr>\n<tr>\n  <th>Method:</th>                <td>IRLS</td>       <th>  Log-Likelihood:    </th>  <td> -71121.</td> \n</tr>\n<tr>\n  <th>Date:</th>            <td>Mon, 18 Sep 2023</td> <th>  Deviance:          </th> <td>1.0710e+05</td>\n</tr>\n<tr>\n  <th>Time:</th>                <td>10:59:12</td>     <th>  Pearson chi2:      </th>  <td>3.76e+05</td> \n</tr>\n<tr>\n  <th>No. Iterations:</th>          <td>7</td>        <th>  Pseudo R-squ. (CS):</th>  <td>0.006628</td> \n</tr>\n<tr>\n  <th>Covariance Type:</th>     <td>nonrobust</td>    <th>                     </th>      <td> </td>    \n</tr>\n</table>\n<table class=\"simpletable\">\n<tr>\n        <td></td>          <th>coef</th>     <th>std err</th>      <th>z</th>      <th>P>|z|</th>  <th>[0.025</th>    <th>0.975]</th>  \n</tr>\n<tr>\n  <th>const</th>        <td>   -4.5989</td> <td>    0.051</td> <td>  -90.281</td> <td> 0.000</td> <td>   -4.699</td> <td>   -4.499</td>\n</tr>\n<tr>\n  <th>VehPower</th>     <td>    0.5456</td> <td>    0.060</td> <td>    9.101</td> <td> 0.000</td> <td>    0.428</td> <td>    0.663</td>\n</tr>\n<tr>\n  <th>VehAge</th>       <td>   -2.2187</td> <td>    0.154</td> <td>  -14.437</td> <td> 0.000</td> <td>   -2.520</td> <td>   -1.918</td>\n</tr>\n<tr>\n  <th>DrivAge</th>      <td>    1.0674</td> <td>    0.054</td> <td>   19.671</td> <td> 0.000</td> <td>    0.961</td> <td>    1.174</td>\n</tr>\n<tr>\n  <th>BonusMalus</th>   <td>    5.9096</td> <td>    0.093</td> <td>   63.219</td> <td> 0.000</td> <td>    5.726</td> <td>    6.093</td>\n</tr>\n<tr>\n  <th>Density</th>      <td>   -0.0348</td> <td>    0.070</td> <td>   -0.500</td> <td> 0.617</td> <td>   -0.171</td> <td>    0.102</td>\n</tr>\n<tr>\n  <th>Area</th>         <td>    0.4362</td> <td>    0.037</td> <td>   11.773</td> <td> 0.000</td> <td>    0.364</td> <td>    0.509</td>\n</tr>\n<tr>\n  <th>VehGas</th>       <td>   -0.1717</td> <td>    0.015</td> <td>  -11.208</td> <td> 0.000</td> <td>   -0.202</td> <td>   -0.142</td>\n</tr>\n<tr>\n  <th>VehBrand_B1</th>  <td>   -0.3798</td> <td>    0.019</td> <td>  -20.253</td> <td> 0.000</td> <td>   -0.417</td> <td>   -0.343</td>\n</tr>\n<tr>\n  <th>VehBrand_B10</th> <td>   -0.3960</td> <td>    0.043</td> <td>   -9.272</td> <td> 0.000</td> <td>   -0.480</td> <td>   -0.312</td>\n</tr>\n<tr>\n  <th>VehBrand_B11</th> <td>   -0.2662</td> <td>    0.046</td> <td>   -5.786</td> <td> 0.000</td> <td>   -0.356</td> <td>   -0.176</td>\n</tr>\n<tr>\n  <th>VehBrand_B12</th> <td>   -0.9011</td> <td>    0.024</td> <td>  -36.923</td> <td> 0.000</td> <td>   -0.949</td> <td>   -0.853</td>\n</tr>\n<tr>\n  <th>VehBrand_B13</th> <td>   -0.3122</td> <td>    0.048</td> <td>   -6.520</td> <td> 0.000</td> <td>   -0.406</td> <td>   -0.218</td>\n</tr>\n<tr>\n  <th>VehBrand_B14</th> <td>   -0.5915</td> <td>    0.096</td> <td>   -6.137</td> <td> 0.000</td> <td>   -0.780</td> <td>   -0.403</td>\n</tr>\n<tr>\n  <th>VehBrand_B2</th>  <td>   -0.3909</td> <td>    0.019</td> <td>  -20.756</td> <td> 0.000</td> <td>   -0.428</td> <td>   -0.354</td>\n</tr>\n<tr>\n  <th>VehBrand_B3</th>  <td>   -0.3500</td> <td>    0.026</td> <td>  -13.539</td> <td> 0.000</td> <td>   -0.401</td> <td>   -0.299</td>\n</tr>\n<tr>\n  <th>VehBrand_B4</th>  <td>   -0.3476</td> <td>    0.035</td> <td>   -9.878</td> <td> 0.000</td> <td>   -0.417</td> <td>   -0.279</td>\n</tr>\n<tr>\n  <th>VehBrand_B5</th>  <td>   -0.2954</td> <td>    0.030</td> <td>   -9.930</td> <td> 0.000</td> <td>   -0.354</td> <td>   -0.237</td>\n</tr>\n<tr>\n  <th>VehBrand_B6</th>  <td>   -0.3681</td> <td>    0.034</td> <td>  -10.903</td> <td> 0.000</td> <td>   -0.434</td> <td>   -0.302</td>\n</tr>\n<tr>\n  <th>Region_R11</th>   <td>   -0.2081</td> <td>    0.034</td> <td>   -6.064</td> <td> 0.000</td> <td>   -0.275</td> <td>   -0.141</td>\n</tr>\n<tr>\n  <th>Region_R21</th>   <td>   -0.2791</td> <td>    0.141</td> <td>   -1.978</td> <td> 0.048</td> <td>   -0.556</td> <td>   -0.003</td>\n</tr>\n<tr>\n  <th>Region_R22</th>   <td>   -0.1087</td> <td>    0.070</td> <td>   -1.562</td> <td> 0.118</td> <td>   -0.245</td> <td>    0.028</td>\n</tr>\n<tr>\n  <th>Region_R23</th>   <td>   -0.3909</td> <td>    0.087</td> <td>   -4.512</td> <td> 0.000</td> <td>   -0.561</td> <td>   -0.221</td>\n</tr>\n<tr>\n  <th>Region_R24</th>   <td>   -0.1947</td> <td>    0.023</td> <td>   -8.364</td> <td> 0.000</td> <td>   -0.240</td> <td>   -0.149</td>\n</tr>\n<tr>\n  <th>Region_R25</th>   <td>   -0.1315</td> <td>    0.054</td> <td>   -2.422</td> <td> 0.015</td> <td>   -0.238</td> <td>   -0.025</td>\n</tr>\n<tr>\n  <th>Region_R26</th>   <td>   -0.2112</td> <td>    0.065</td> <td>   -3.247</td> <td> 0.001</td> <td>   -0.339</td> <td>   -0.084</td>\n</tr>\n<tr>\n  <th>Region_R31</th>   <td>   -0.2233</td> <td>    0.043</td> <td>   -5.191</td> <td> 0.000</td> <td>   -0.308</td> <td>   -0.139</td>\n</tr>\n<tr>\n  <th>Region_R41</th>   <td>   -0.2732</td> <td>    0.054</td> <td>   -5.032</td> <td> 0.000</td> <td>   -0.380</td> <td>   -0.167</td>\n</tr>\n<tr>\n  <th>Region_R42</th>   <td>   -0.1992</td> <td>    0.120</td> <td>   -1.653</td> <td> 0.098</td> <td>   -0.435</td> <td>    0.037</td>\n</tr>\n<tr>\n  <th>Region_R43</th>   <td>   -0.4903</td> <td>    0.216</td> <td>   -2.275</td> <td> 0.023</td> <td>   -0.913</td> <td>   -0.068</td>\n</tr>\n<tr>\n  <th>Region_R52</th>   <td>   -0.1364</td> <td>    0.034</td> <td>   -4.068</td> <td> 0.000</td> <td>   -0.202</td> <td>   -0.071</td>\n</tr>\n<tr>\n  <th>Region_R53</th>   <td>   -0.1365</td> <td>    0.031</td> <td>   -4.405</td> <td> 0.000</td> <td>   -0.197</td> <td>   -0.076</td>\n</tr>\n<tr>\n  <th>Region_R54</th>   <td>   -0.1431</td> <td>    0.044</td> <td>   -3.248</td> <td> 0.001</td> <td>   -0.230</td> <td>   -0.057</td>\n</tr>\n<tr>\n  <th>Region_R72</th>   <td>   -0.1648</td> <td>    0.040</td> <td>   -4.131</td> <td> 0.000</td> <td>   -0.243</td> <td>   -0.087</td>\n</tr>\n<tr>\n  <th>Region_R73</th>   <td>   -0.5051</td> <td>    0.065</td> <td>   -7.714</td> <td> 0.000</td> <td>   -0.633</td> <td>   -0.377</td>\n</tr>\n<tr>\n  <th>Region_R74</th>   <td>    0.1678</td> <td>    0.083</td> <td>    2.019</td> <td> 0.043</td> <td>    0.005</td> <td>    0.331</td>\n</tr>\n<tr>\n  <th>Region_R82</th>   <td>    0.0145</td> <td>    0.025</td> <td>    0.574</td> <td> 0.566</td> <td>   -0.035</td> <td>    0.064</td>\n</tr>\n<tr>\n  <th>Region_R83</th>   <td>   -0.3142</td> <td>    0.104</td> <td>   -3.026</td> <td> 0.002</td> <td>   -0.518</td> <td>   -0.111</td>\n</tr>\n<tr>\n  <th>Region_R91</th>   <td>   -0.3362</td> <td>    0.042</td> <td>   -7.928</td> <td> 0.000</td> <td>   -0.419</td> <td>   -0.253</td>\n</tr>\n<tr>\n  <th>Region_R93</th>   <td>   -0.1113</td> <td>    0.028</td> <td>   -3.930</td> <td> 0.000</td> <td>   -0.167</td> <td>   -0.056</td>\n</tr>\n<tr>\n  <th>Region_R94</th>   <td>   -0.2236</td> <td>    0.114</td> <td>   -1.964</td> <td> 0.049</td> <td>   -0.447</td> <td>   -0.001</td>\n</tr>\n</table>"
     },
     "execution_count": 2,
     "metadata": {},
     "output_type": "execute_result"
    }
   ],
   "source": [
    "# Fit a GLM using statsmodels using poisson deviance\n",
    "import statsmodels.api as sm\n",
    "from statsmodels.genmod.generalized_linear_model import GLM\n",
    "from statsmodels.genmod.families.family import Poisson\n",
    "\n",
    "logger.log(\"Fitting a GLM using statsmodels\")\n",
    "glm = GLM(y, sm.add_constant(X), family=Poisson(), freq_weights=w)\n",
    "glm_results = glm.fit()\n",
    "glm_results.summary()\n"
   ],
   "metadata": {
    "collapsed": false
   }
  },
  {
   "cell_type": "code",
   "execution_count": 6,
   "outputs": [
    {
     "data": {
      "text/plain": "['B12', 'B6', 'B3', 'B2', 'B5', ..., 'B14', 'B13', 'B4', 'B1', 'B11']\nLength: 11\nCategories (11, object): ['B1', 'B10', 'B11', 'B12', ..., 'B3', 'B4', 'B5', 'B6']"
     },
     "execution_count": 6,
     "metadata": {},
     "output_type": "execute_result"
    }
   ],
   "source": [
    "df['VehBrand'].unique()\n"
   ],
   "metadata": {
    "collapsed": false
   }
  }
 ],
 "metadata": {
  "kernelspec": {
   "display_name": "Python 3",
   "language": "python",
   "name": "python3"
  },
  "language_info": {
   "codemirror_mode": {
    "name": "ipython",
    "version": 2
   },
   "file_extension": ".py",
   "mimetype": "text/x-python",
   "name": "python",
   "nbconvert_exporter": "python",
   "pygments_lexer": "ipython2",
   "version": "2.7.6"
  }
 },
 "nbformat": 4,
 "nbformat_minor": 0
}
