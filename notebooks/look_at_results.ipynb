{
 "cells": [
  {
   "cell_type": "code",
   "execution_count": 1,
   "outputs": [],
   "source": [
    "import numpy as np\n",
    "import pandas as pd\n",
    "import matplotlib.pyplot as plt\n",
    "import tikzplotlib\n",
    "\n",
    "run_id = 39\n",
    "folder_path = f'../data/results/run_{run_id}/'"
   ],
   "metadata": {
    "collapsed": false
   }
  },
  {
   "cell_type": "code",
   "execution_count": 2,
   "outputs": [
    {
     "name": "stdout",
     "output_type": "stream",
     "text": [
      "                  train    test\n",
      "intercept        25.207  25.507\n",
      "glm              24.157  24.422\n",
      "local-glm-boost  23.707  24.008\n"
     ]
    }
   ],
   "source": [
    "results_deviance = pd.read_csv(folder_path + 'results_deviance.csv', index_col=0)\n",
    "print((results_deviance*100).round(3))"
   ],
   "metadata": {
    "collapsed": false
   }
  },
  {
   "cell_type": "code",
   "execution_count": 3,
   "outputs": [
    {
     "name": "stdout",
     "output_type": "stream",
     "text": [
      "\\begin{tabular}{lrr}\n",
      "\\toprule\n",
      " & Training & Test \\\\\n",
      "\\midrule\n",
      "Intercept & 25.207 & 25.507 \\\\\n",
      "Glm & 24.157 & 24.422 \\\\\n",
      "Local-glm-boost & 23.707 & 24.008 \\\\\n",
      "\\bottomrule\n",
      "\\end{tabular}\n",
      "\n"
     ]
    }
   ],
   "source": [
    "# print (results_deviance*100).round(3) as a latex table\n",
    "# But with capitalized first letter\n",
    "# and train replaced with Training\n",
    "# and local-glm-boost as LocalGLMBoost\n",
    "# and glm as GLM\n",
    "\n",
    "new_table = (results_deviance*100).copy()\n",
    "new_table.index = [index.capitalize() for index in new_table.index]\n",
    "new_table.columns = [column.capitalize() for column in new_table.columns]\n",
    "new_table.rename(columns={'Train':'Training'}, inplace=True)\n",
    "new_table.rename(columns={'Local-glm-boost':'LocalGLMBoost'}, inplace=True)\n",
    "new_table.rename(columns={'Glm':'GLM'}, inplace=True)\n",
    "print(new_table.to_latex(float_format=\"%.3f\"))"
   ],
   "metadata": {
    "collapsed": false
   }
  },
  {
   "cell_type": "code",
   "execution_count": 77,
   "outputs": [
    {
     "name": "stdout",
     "output_type": "stream",
     "text": [
      "145 & 63 & 121 & 30 & 155 & 65 & 92 & (0, 145) & (0, 127) \\\\\n"
     ]
    }
   ],
   "source": [
    "n_estimators = pd.read_csv(folder_path + 'n_estimators.csv', index_col=0)['n_estimators']\n",
    "# Make a bar plot with high values on top\n",
    "features = n_estimators.index\n",
    "cont_features = ['VehPower', 'VehAge', 'VehGas' ,'Density', 'DrivAge', 'BonusMalus', 'Area']\n",
    "veh_features = [feature for feature in features if feature.startswith('VehBrand')]\n",
    "region_features = [feature for feature in features if feature.startswith('Region')]\n",
    "row = ' & '.join([str(n_estimators.loc[feature]) for feature in cont_features])\n",
    "\n",
    "row += ' & (' + str(n_estimators[veh_features].min()) + ', ' + str(n_estimators[veh_features].max()) + ')'\n",
    "row += ' & (' + str(n_estimators[region_features].min()) + ', ' + str(n_estimators[region_features].max()) + ')'\n",
    "row += ' \\\\\\\\'\n",
    "print(row)"
   ],
   "metadata": {
    "collapsed": false
   }
  },
  {
   "cell_type": "code",
   "execution_count": 78,
   "outputs": [
    {
     "name": "stdout",
     "output_type": "stream",
     "text": [
      "0.52 & -1.77 & -0.16 & -0.04 & 0.61 & 6.09 & 0.44 & (-0.7, -0.22) & (-0.46, 0.07) \\\\\n"
     ]
    }
   ],
   "source": [
    "beta0 = pd.read_csv(folder_path + 'beta_estimates.csv', index_col=0)['beta0']\n",
    "row = ' & '.join([str(beta0.loc[feature].round(2)) for feature in cont_features])\n",
    "row += ' & (' + str(beta0[veh_features].min().round(2)) + ', ' + str(beta0[veh_features].max().round(2)) + ')'\n",
    "row += ' & (' + str(beta0[region_features].min().round(2)) + ', ' + str(beta0[region_features].max().round(2)) + ')'\n",
    "row += ' \\\\\\\\'\n",
    "print(row)"
   ],
   "metadata": {
    "collapsed": false
   }
  },
  {
   "cell_type": "code",
   "execution_count": 6,
   "outputs": [
    {
     "data": {
      "text/plain": "<Figure size 640x480 with 1 Axes>",
      "image/png": "[encoded data removed]"
     },
     "metadata": {},
     "output_type": "display_data"
    }
   ],
   "source": [
    "loss_train = pd.read_csv(folder_path + 'loss_tuning_train.csv', index_col=0)\n",
    "# Extract the last column\n",
    "loss_train = loss_train.iloc[:, -1]\n",
    "loss_valid = pd.read_csv(folder_path + 'loss_tuning_valid.csv', index_col=0)\n",
    "# Extract the last column\n",
    "loss_valid = loss_valid.iloc[:, -1]\n",
    "\n",
    "(loss_train/loss_train.iloc[0]).plot(label='train')\n",
    "(loss_valid/loss_valid.iloc[0]).plot(label='valid')\n",
    "plt.legend();\n"
   ],
   "metadata": {
    "collapsed": false
   }
  },
  {
   "cell_type": "code",
   "execution_count": null,
   "outputs": [],
   "source": [
    "predictions = pd.read_csv(folder_path + 'predictions.csv', index_col=0)\n",
    "mu_hat = predictions[['intercept','glm','local-glm-boost']].mul(predictions['w'],axis=0)\n",
    "mu_hat['y'] = predictions['y']\n",
    "\n",
    "n = len(mu_hat)\n",
    "window_size = 1000 # n//100\n",
    "prediction_results = mu_hat.sort_values('local-glm-boost').reset_index(drop=True).rolling(window_size).mean()[['y','intercept','glm','local-glm-boost']].dropna()\n",
    "# Sample the data\n",
    "sampled_predictions = prediction_results.sample(1000)\n",
    "sampled_predictions.sort_values('local-glm-boost', inplace=True)\n",
    "\n",
    "plt.figure(figsize=(12,5))\n",
    "# Replace the column names with the names of the models\n",
    "sampled_predictions.columns = ['y','Intercept','GLM','LocalGLMBoost']\n",
    "# Plot the data with thicker lines\n",
    "sampled_predictions.plot(linewidth=2);\n",
    "# Add x-axis label \"Observation (ordered)\"\n",
    "plt.xlabel('Observation (ordered)');\n",
    "# Change the y-axis label to \"Claim count (rolling average)\"\n",
    "plt.ylabel('Claim count');\n",
    "# Save as tikz\n",
    "tikzplotlib.save(folder_path + 'real_data_predictions.tex')"
   ],
   "metadata": {
    "collapsed": false
   }
  },
  {
   "cell_type": "code",
   "execution_count": 65,
   "outputs": [
    {
     "data": {
      "text/plain": "            VehPower  VehAge  DrivAge  BonusMalus  Density  Area  VehGas  \\\nVehPower        0.00    0.13     0.09        0.74     0.00   0.0     0.0   \nVehAge          0.00    0.32     0.15        0.52     0.00   0.0     0.0   \nDrivAge         0.00    0.00     0.25        0.75     0.00   0.0     0.0   \nBonusMalus      0.00    0.00     0.74        0.26     0.00   0.0     0.0   \nDensity         0.00    0.00     0.00        0.93     0.07   0.0     0.0   \nArea            0.00    0.08     0.15        0.77     0.00   0.0     0.0   \nVehGas          0.00    0.05     0.56        0.39     0.00   0.0     0.0   \nRegion          0.00    0.00     0.12        0.72     0.06   0.0     0.0   \nVehBrand        0.13    0.04     0.26        0.37     0.05   0.0     0.0   \n\n            Region  VehBrand  \nVehPower       0.0      0.04  \nVehAge         0.0      0.00  \nDrivAge        0.0      0.00  \nBonusMalus     0.0      0.00  \nDensity        0.0      0.00  \nArea           0.0      0.00  \nVehGas         0.0      0.00  \nRegion         0.1      0.00  \nVehBrand       0.0      0.15  ",
      "text/html": "<div>\n<style scoped>\n    .dataframe tbody tr th:only-of-type {\n        vertical-align: middle;\n    }\n\n    .dataframe tbody tr th {\n        vertical-align: top;\n    }\n\n    .dataframe thead th {\n        text-align: right;\n    }\n</style>\n<table border=\"1\" class=\"dataframe\">\n  <thead>\n    <tr style=\"text-align: right;\">\n      <th></th>\n      <th>VehPower</th>\n      <th>VehAge</th>\n      <th>DrivAge</th>\n      <th>BonusMalus</th>\n      <th>Density</th>\n      <th>Area</th>\n      <th>VehGas</th>\n      <th>Region</th>\n      <th>VehBrand</th>\n    </tr>\n  </thead>\n  <tbody>\n    <tr>\n      <th>VehPower</th>\n      <td>0.00</td>\n      <td>0.13</td>\n      <td>0.09</td>\n      <td>0.74</td>\n      <td>0.00</td>\n      <td>0.0</td>\n      <td>0.0</td>\n      <td>0.0</td>\n      <td>0.04</td>\n    </tr>\n    <tr>\n      <th>VehAge</th>\n      <td>0.00</td>\n      <td>0.32</td>\n      <td>0.15</td>\n      <td>0.52</td>\n      <td>0.00</td>\n      <td>0.0</td>\n      <td>0.0</td>\n      <td>0.0</td>\n      <td>0.00</td>\n    </tr>\n    <tr>\n      <th>DrivAge</th>\n      <td>0.00</td>\n      <td>0.00</td>\n      <td>0.25</td>\n      <td>0.75</td>\n      <td>0.00</td>\n      <td>0.0</td>\n      <td>0.0</td>\n      <td>0.0</td>\n      <td>0.00</td>\n    </tr>\n    <tr>\n      <th>BonusMalus</th>\n      <td>0.00</td>\n      <td>0.00</td>\n      <td>0.74</td>\n      <td>0.26</td>\n      <td>0.00</td>\n      <td>0.0</td>\n      <td>0.0</td>\n      <td>0.0</td>\n      <td>0.00</td>\n    </tr>\n    <tr>\n      <th>Density</th>\n      <td>0.00</td>\n      <td>0.00</td>\n      <td>0.00</td>\n      <td>0.93</td>\n      <td>0.07</td>\n      <td>0.0</td>\n      <td>0.0</td>\n      <td>0.0</td>\n      <td>0.00</td>\n    </tr>\n    <tr>\n      <th>Area</th>\n      <td>0.00</td>\n      <td>0.08</td>\n      <td>0.15</td>\n      <td>0.77</td>\n      <td>0.00</td>\n      <td>0.0</td>\n      <td>0.0</td>\n      <td>0.0</td>\n      <td>0.00</td>\n    </tr>\n    <tr>\n      <th>VehGas</th>\n      <td>0.00</td>\n      <td>0.05</td>\n      <td>0.56</td>\n      <td>0.39</td>\n      <td>0.00</td>\n      <td>0.0</td>\n      <td>0.0</td>\n      <td>0.0</td>\n      <td>0.00</td>\n    </tr>\n    <tr>\n      <th>Region</th>\n      <td>0.00</td>\n      <td>0.00</td>\n      <td>0.12</td>\n      <td>0.72</td>\n      <td>0.06</td>\n      <td>0.0</td>\n      <td>0.0</td>\n      <td>0.1</td>\n      <td>0.00</td>\n    </tr>\n    <tr>\n      <th>VehBrand</th>\n      <td>0.13</td>\n      <td>0.04</td>\n      <td>0.26</td>\n      <td>0.37</td>\n      <td>0.05</td>\n      <td>0.0</td>\n      <td>0.0</td>\n      <td>0.0</td>\n      <td>0.15</td>\n    </tr>\n  </tbody>\n</table>\n</div>"
     },
     "execution_count": 65,
     "metadata": {},
     "output_type": "execute_result"
    }
   ],
   "source": [
    "feature_importances_og = pd.read_csv(folder_path + 'feature_importances.csv', index_col=0)\n",
    "feature_importances = feature_importances_og.copy().dropna()\n",
    "\n",
    "reg_columns = [feature for feature in feature_importances.columns if feature.startswith('Region')]\n",
    "feature_importances['Region'] = feature_importances[reg_columns].sum(axis=1)\n",
    "feature_importances.drop(reg_columns, axis=1, inplace=True)\n",
    "reg_index = [feature for feature in feature_importances.index if feature.startswith('Region')]\n",
    "feature_importances.loc['Region'] = feature_importances.loc[reg_index].mean(axis=0)\n",
    "feature_importances.drop(reg_index, axis=0, inplace=True)\n",
    "\n",
    "veh_columns = [feature for feature in feature_importances.columns if feature.startswith('VehBrand')]\n",
    "feature_importances['VehBrand'] = feature_importances[veh_columns].sum(axis=1)\n",
    "feature_importances.drop(veh_columns, axis=1, inplace=True)\n",
    "veh_index = [feature for feature in feature_importances.index if feature.startswith('VehBrand')]\n",
    "feature_importances.loc['VehBrand'] = feature_importances.loc[veh_index].mean(axis=0)\n",
    "feature_importances.drop(veh_index, axis=0, inplace=True)\n",
    "\n",
    "feature_importances.round(2)"
   ],
   "metadata": {
    "collapsed": false
   }
  },
  {
   "cell_type": "code",
   "execution_count": 75,
   "outputs": [
    {
     "name": "stdout",
     "output_type": "stream",
     "text": [
      "0 8 0.13\n",
      "1 8 0.04\n",
      "2 8 0.26\n",
      "3 8 0.37\n",
      "4 8 0.05\n",
      "5 8 0.0\n",
      "6 8 0.0\n",
      "7 8 0.0\n",
      "8 8 0.15\n"
     ]
    }
   ],
   "source": [
    "veh_values = feature_importances.loc['VehBrand'].round(2).values\n",
    "\n",
    "for i, value in enumerate(veh_values):\n",
    "    string = f'{i} 8 {value}'\n",
    "    print(string)"
   ],
   "metadata": {
    "collapsed": false
   }
  },
  {
   "cell_type": "code",
   "execution_count": null,
   "outputs": [],
   "source": [],
   "metadata": {
    "collapsed": false
   }
  }
 ],
 "metadata": {
  "kernelspec": {
   "display_name": "Python 3",
   "language": "python",
   "name": "python3"
  },
  "language_info": {
   "codemirror_mode": {
    "name": "ipython",
    "version": 2
   },
   "file_extension": ".py",
   "mimetype": "text/x-python",
   "name": "python",
   "nbconvert_exporter": "python",
   "pygments_lexer": "ipython2",
   "version": "2.7.6"
  }
 },
 "nbformat": 4,
 "nbformat_minor": 0
}
